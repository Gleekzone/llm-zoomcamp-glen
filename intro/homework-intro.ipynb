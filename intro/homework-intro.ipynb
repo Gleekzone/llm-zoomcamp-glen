{
 "cells": [
  {
   "cell_type": "markdown",
   "id": "8334df47-93e7-4d9e-91f4-d059852504aa",
   "metadata": {},
   "source": [
    "### Homework Introduction. \n",
    "#### Author: Glen Lopez\n"
   ]
  },
  {
   "cell_type": "markdown",
   "id": "69909c92-9faf-4f84-a45e-fd654f5db29c",
   "metadata": {},
   "source": [
    "### Q1. Running Elastic"
   ]
  },
  {
   "cell_type": "code",
   "execution_count": 1,
   "id": "02c3a785-5611-4866-8fda-f0e39fbb6770",
   "metadata": {},
   "outputs": [],
   "source": [
    "# Run Elastic Search 8.17.6, and get the cluster information. What's the version.build_hash value?"
   ]
  },
  {
   "cell_type": "code",
   "execution_count": 2,
   "id": "cbe22fc4-46c2-4222-b63a-017dbb50e349",
   "metadata": {},
   "outputs": [],
   "source": [
    "# \"build_hash\" : \"42f05b9372a9a4a470db3b52817899b99a76ee73\""
   ]
  },
  {
   "cell_type": "code",
   "execution_count": 3,
   "id": "3c56fd53-e8a6-4dab-bffd-3d3564870dff",
   "metadata": {},
   "outputs": [],
   "source": [
    "# Get data"
   ]
  },
  {
   "cell_type": "code",
   "execution_count": 1,
   "id": "885e5a9b-e307-4c41-a246-4ae0cb680be7",
   "metadata": {},
   "outputs": [],
   "source": [
    "import requests\n",
    "from tqdm.auto import tqdm\n",
    "from elasticsearch import Elasticsearch\n",
    "import tiktoken\n",
    "from dotenv import load_dotenv\n",
    "import ollama"
   ]
  },
  {
   "cell_type": "code",
   "execution_count": 3,
   "id": "d2ae7a59-0791-4c24-92c5-9e70629704de",
   "metadata": {},
   "outputs": [],
   "source": [
    "docs_url = 'https://github.com/DataTalksClub/llm-zoomcamp/blob/main/01-intro/documents.json?raw=1'\n",
    "docs_response = requests.get(docs_url)\n",
    "documents_raw = docs_response.json()\n",
    "\n",
    "documents = []\n",
    "\n",
    "for course in documents_raw:\n",
    "    course_name = course['course']\n",
    "\n",
    "    for doc in course['documents']:\n",
    "        doc['course'] = course_name\n",
    "        documents.append(doc)"
   ]
  },
  {
   "cell_type": "code",
   "execution_count": 4,
   "id": "99ea9543-5f1b-4586-b550-5503e55ef83a",
   "metadata": {},
   "outputs": [
    {
     "data": {
      "text/plain": [
       "{'text': \"The purpose of this document is to capture frequently asked technical questions\\nThe exact day and hour of the course will be 15th Jan 2024 at 17h00. The course will start with the first  “Office Hours'' live.1\\nSubscribe to course public Google Calendar (it works from Desktop only).\\nRegister before the course starts using this link.\\nJoin the course Telegram channel with announcements.\\nDon’t forget to register in DataTalks.Club's Slack and join the channel.\",\n",
       " 'section': 'General course-related questions',\n",
       " 'question': 'Course - When will the course start?',\n",
       " 'course': 'data-engineering-zoomcamp'}"
      ]
     },
     "execution_count": 4,
     "metadata": {},
     "output_type": "execute_result"
    }
   ],
   "source": [
    "documents[0]"
   ]
  },
  {
   "cell_type": "markdown",
   "id": "18e9d99e-bbf7-4e8b-bae3-e82c12421ae3",
   "metadata": {},
   "source": [
    "### Q2. Indexing the data"
   ]
  },
  {
   "cell_type": "code",
   "execution_count": 5,
   "id": "d1eb6aef-6f03-4c0a-a98c-37a7cb02dc0b",
   "metadata": {},
   "outputs": [],
   "source": [
    "\n",
    "es_client = Elasticsearch('http://127.0.0.1:9200')"
   ]
  },
  {
   "cell_type": "code",
   "execution_count": 6,
   "id": "7803ca08-7960-4700-aa34-a0df5945c2c8",
   "metadata": {},
   "outputs": [
    {
     "data": {
      "text/plain": [
       "ObjectApiResponse({'name': '83285aca3a71', 'cluster_name': 'docker-cluster', 'cluster_uuid': 'udwJG7RbRqydCWoWDkqmzg', 'version': {'number': '8.4.3', 'build_flavor': 'default', 'build_type': 'docker', 'build_hash': '42f05b9372a9a4a470db3b52817899b99a76ee73', 'build_date': '2022-10-04T07:17:24.662462378Z', 'build_snapshot': False, 'lucene_version': '9.3.0', 'minimum_wire_compatibility_version': '7.17.0', 'minimum_index_compatibility_version': '7.0.0'}, 'tagline': 'You Know, for Search'})"
      ]
     },
     "execution_count": 6,
     "metadata": {},
     "output_type": "execute_result"
    }
   ],
   "source": [
    "es_client.info()"
   ]
  },
  {
   "cell_type": "code",
   "execution_count": 7,
   "id": "fdf1c67c-c80c-4739-87cd-b847651974c7",
   "metadata": {},
   "outputs": [],
   "source": [
    "index_setup = {\n",
    "    \"settings\": {\n",
    "        \"number_of_shards\": 1,\n",
    "        \"number_of_replicas\": 0\n",
    "    },\n",
    "    \"mappings\": {\n",
    "        \"properties\": {\n",
    "            \"text\": {\"type\": \"text\"},\n",
    "            \"section\": {\"type\": \"text\"},\n",
    "            \"question\": {\"type\": \"text\"},\n",
    "            \"course\": {\"type\": \"keyword\"} \n",
    "        }\n",
    "    }\n",
    "}"
   ]
  },
  {
   "cell_type": "code",
   "execution_count": 8,
   "id": "b7e5ff1f-9691-45ea-80d5-4d9b386e9e9d",
   "metadata": {},
   "outputs": [
    {
     "name": "stderr",
     "output_type": "stream",
     "text": [
      "/var/folders/fb/rch1cgk167v8y_533l1hd97h0000gn/T/ipykernel_91307/487644483.py:2: DeprecationWarning: The 'body' parameter is deprecated and will be removed in a future version. Instead use individual parameters.\n",
      "  es_client.indices.create(index=index_name, body=index_setup)\n"
     ]
    },
    {
     "data": {
      "text/plain": [
       "ObjectApiResponse({'acknowledged': True, 'shards_acknowledged': True, 'index': 'courses-questions-z'})"
      ]
     },
     "execution_count": 8,
     "metadata": {},
     "output_type": "execute_result"
    }
   ],
   "source": [
    "index_name = 'courses-questions-z'\n",
    "es_client.indices.create(index=index_name, body=index_setup)"
   ]
  },
  {
   "cell_type": "code",
   "execution_count": 10,
   "id": "e14c172c-d26d-4279-9971-6685463b9a19",
   "metadata": {},
   "outputs": [
    {
     "data": {
      "application/vnd.jupyter.widget-view+json": {
       "model_id": "a97162cab717483dad78b40f3426b120",
       "version_major": 2,
       "version_minor": 0
      },
      "text/plain": [
       "  0%|          | 0/948 [00:00<?, ?it/s]"
      ]
     },
     "metadata": {},
     "output_type": "display_data"
    }
   ],
   "source": [
    "# adding data to elastic\n",
    "for doc in tqdm(documents):\n",
    "    es_client.index(index=index_name, document=doc)"
   ]
  },
  {
   "cell_type": "code",
   "execution_count": 15,
   "id": "8fc17ec9-bf0b-4206-bf75-1e5c95eba11b",
   "metadata": {},
   "outputs": [],
   "source": [
    "## Which function do you use for adding your data to elastic?\n",
    "# ans: index"
   ]
  },
  {
   "cell_type": "markdown",
   "id": "d4d13f60-83d4-4a5f-9050-586df605c92b",
   "metadata": {},
   "source": [
    "### Q3. Searching"
   ]
  },
  {
   "cell_type": "code",
   "execution_count": 16,
   "id": "bae1f441-29ac-4197-90a8-8ecb968de7ef",
   "metadata": {},
   "outputs": [],
   "source": [
    "### Use only question and text fields and give question a boost of 4, and use \"type\": \"best_fields\""
   ]
  },
  {
   "cell_type": "code",
   "execution_count": 11,
   "id": "86a7afe2-4441-44ba-a831-cad05511160b",
   "metadata": {},
   "outputs": [],
   "source": [
    "query = 'How do execute a command on a Kubernetes pod?'"
   ]
  },
  {
   "cell_type": "code",
   "execution_count": 12,
   "id": "37bc6fed-0244-4123-9132-473cded1cfaa",
   "metadata": {},
   "outputs": [],
   "source": [
    "query_search = {\n",
    "    \"size\": 5,\n",
    "    \"query\": {\n",
    "        \"bool\": {\n",
    "            \"must\": {\n",
    "                \"multi_match\": {\n",
    "                    \"query\": query,\n",
    "                    \"fields\": [\"question^4\", \"text\", \"section\"],\n",
    "                    \"type\": \"best_fields\"\n",
    "                }\n",
    "            },\n",
    "            \"filter\": {\n",
    "                \"term\": {\n",
    "                    \"course\": \"data-engineering-zoomcamp\"\n",
    "                }\n",
    "            }\n",
    "        }\n",
    "    }\n",
    "}"
   ]
  },
  {
   "cell_type": "code",
   "execution_count": 13,
   "id": "4d5ca5f0-97a2-4eec-87fd-84b1e2e46bd6",
   "metadata": {},
   "outputs": [
    {
     "name": "stderr",
     "output_type": "stream",
     "text": [
      "/var/folders/fb/rch1cgk167v8y_533l1hd97h0000gn/T/ipykernel_91307/2943586978.py:1: DeprecationWarning: The 'body' parameter is deprecated and will be removed in a future version. Instead use individual parameters.\n",
      "  res = es_client.search(index=index_name, body=query_search)\n"
     ]
    }
   ],
   "source": [
    "res = es_client.search(index=index_name, body=query_search)"
   ]
  },
  {
   "cell_type": "code",
   "execution_count": 14,
   "id": "ebce5526-f11b-4d60-99f6-d9346abf8812",
   "metadata": {},
   "outputs": [],
   "source": [
    "## What's the score for the top ranking result?"
   ]
  },
  {
   "cell_type": "code",
   "execution_count": 15,
   "id": "a4f4c5b4-cc59-47f0-b941-5848eab5d325",
   "metadata": {},
   "outputs": [],
   "source": [
    "results_scores = []\n",
    "for hit in res['hits']['hits']:\n",
    "    results_scores.append(hit['_score'])"
   ]
  },
  {
   "cell_type": "code",
   "execution_count": 16,
   "id": "d0c9123a-7a9b-4abe-8a64-1769998a3477",
   "metadata": {},
   "outputs": [
    {
     "data": {
      "text/plain": [
       "[32.70257, 31.96334, 31.96334, 30.263474, 30.263474]"
      ]
     },
     "execution_count": 16,
     "metadata": {},
     "output_type": "execute_result"
    }
   ],
   "source": [
    "sorted(results_scores, reverse=True)"
   ]
  },
  {
   "cell_type": "code",
   "execution_count": 17,
   "id": "17b8b0c8-ca62-4acc-a5e2-2f30ec35de28",
   "metadata": {},
   "outputs": [
    {
     "data": {
      "text/plain": [
       "[32.70257, 31.96334, 31.96334, 30.263474, 30.263474]"
      ]
     },
     "execution_count": 17,
     "metadata": {},
     "output_type": "execute_result"
    }
   ],
   "source": [
    "results_scores"
   ]
  },
  {
   "cell_type": "markdown",
   "id": "c93ed9d0-c507-4499-bd7d-7e14d7312bd1",
   "metadata": {},
   "source": [
    "### Q4. Filtering"
   ]
  },
  {
   "cell_type": "code",
   "execution_count": 18,
   "id": "db67c518-0080-452c-8126-c93bf84f80a0",
   "metadata": {},
   "outputs": [],
   "source": [
    "question = 'How do copy a file to a Docker container?'"
   ]
  },
  {
   "cell_type": "code",
   "execution_count": 19,
   "id": "eb77a82f-a4e3-4617-852d-b66ad6d68db8",
   "metadata": {},
   "outputs": [],
   "source": [
    "query_search = {\n",
    "    \"size\": 3,\n",
    "    \"query\": {\n",
    "        \"bool\": {\n",
    "            \"must\": {\n",
    "                \"multi_match\": {\n",
    "                    \"query\": question,\n",
    "                    \"fields\": [\"question^4\", \"text\", \"section\"],\n",
    "                    \"type\": \"best_fields\"\n",
    "                }\n",
    "            },\n",
    "            \"filter\": {\n",
    "                \"term\": {\n",
    "                    \"course\": \"machine-learning-zoomcamp\"\n",
    "                }\n",
    "            }\n",
    "        }\n",
    "    }\n",
    "}"
   ]
  },
  {
   "cell_type": "code",
   "execution_count": 21,
   "id": "b777cf8c-8092-4865-a22d-dce6d0365639",
   "metadata": {},
   "outputs": [],
   "source": [
    "index_name = 'courses-questions-z'"
   ]
  },
  {
   "cell_type": "code",
   "execution_count": 22,
   "id": "96af4d53-8563-4aef-bd8e-785fc00a4756",
   "metadata": {},
   "outputs": [
    {
     "name": "stderr",
     "output_type": "stream",
     "text": [
      "/var/folders/fb/rch1cgk167v8y_533l1hd97h0000gn/T/ipykernel_91307/3438708907.py:1: DeprecationWarning: The 'body' parameter is deprecated and will be removed in a future version. Instead use individual parameters.\n",
      "  response = es_client.search(index=index_name, body=query_search)\n"
     ]
    }
   ],
   "source": [
    "response = es_client.search(index=index_name, body=query_search)"
   ]
  },
  {
   "cell_type": "code",
   "execution_count": 23,
   "id": "4905dd1a-72d8-40f8-a753-25552883b299",
   "metadata": {},
   "outputs": [
    {
     "data": {
      "text/plain": [
       "ObjectApiResponse({'took': 43, 'timed_out': False, '_shards': {'total': 1, 'successful': 1, 'skipped': 0, 'failed': 0}, 'hits': {'total': {'value': 342, 'relation': 'eq'}, 'max_score': 74.60149, 'hits': [{'_index': 'courses-questions-z', '_id': 'XE6BeJcBLPKq0K_TQvTa', '_score': 74.60149, '_source': {'text': 'Launch the container image in interactive mode and overriding the entrypoint, so that it starts a bash command.\\ndocker run -it --entrypoint bash <image>\\nIf the container is already running, execute a command in the specific container:\\ndocker ps (find the container-id)\\ndocker exec -it <container-id> bash\\n(Marcos MJD)', 'section': '5. Deploying Machine Learning Models', 'question': 'How do I debug a docker container?', 'course': 'machine-learning-zoomcamp'}}, {'_index': 'courses-questions-z', '_id': 'e06BeJcBLPKq0K_TQ_Qg', '_score': 68.79335, '_source': {'text': \"You can copy files from your local machine into a Docker container using the docker cp command. Here's how to do it:\\nTo copy a file or directory from your local machine into a running Docker container, you can use the `docker cp command`. The basic syntax is as follows:\\ndocker cp /path/to/local/file_or_directory container_id:/path/in/container\\nHrithik Kumar Advani\", 'section': '5. Deploying Machine Learning Models', 'question': 'How do I copy files from my local machine to docker container?', 'course': 'machine-learning-zoomcamp'}}, {'_index': 'courses-questions-z', '_id': 'fE6BeJcBLPKq0K_TQ_Qj', '_score': 61.608036, '_source': {'text': 'You can copy files from your local machine into a Docker container using the docker cp command. Here\\'s how to do it:\\nIn the Dockerfile, you can provide the folder containing the files that you want to copy over. The basic syntax is as follows:\\nCOPY [\"src/predict.py\", \"models/xgb_model.bin\", \"./\"]\\t\\t\\t\\t\\t\\t\\t\\t\\t\\t\\tGopakumar Gopinathan', 'section': '5. Deploying Machine Learning Models', 'question': 'How do I copy files from a different folder into docker container’s working directory?', 'course': 'machine-learning-zoomcamp'}}]}})"
      ]
     },
     "execution_count": 23,
     "metadata": {},
     "output_type": "execute_result"
    }
   ],
   "source": [
    "response"
   ]
  },
  {
   "cell_type": "code",
   "execution_count": 24,
   "id": "2ad7b392-e74c-4651-a338-ce901cccffe7",
   "metadata": {},
   "outputs": [],
   "source": [
    "results_sources = []\n",
    "for hit in response['hits']['hits']:\n",
    "    results_sources.append(hit['_source'])"
   ]
  },
  {
   "cell_type": "code",
   "execution_count": 25,
   "id": "599c06fe-b9f6-426b-bbae-bfd0dd88f27f",
   "metadata": {},
   "outputs": [
    {
     "data": {
      "text/plain": [
       "[{'text': 'Launch the container image in interactive mode and overriding the entrypoint, so that it starts a bash command.\\ndocker run -it --entrypoint bash <image>\\nIf the container is already running, execute a command in the specific container:\\ndocker ps (find the container-id)\\ndocker exec -it <container-id> bash\\n(Marcos MJD)',\n",
       "  'section': '5. Deploying Machine Learning Models',\n",
       "  'question': 'How do I debug a docker container?',\n",
       "  'course': 'machine-learning-zoomcamp'},\n",
       " {'text': \"You can copy files from your local machine into a Docker container using the docker cp command. Here's how to do it:\\nTo copy a file or directory from your local machine into a running Docker container, you can use the `docker cp command`. The basic syntax is as follows:\\ndocker cp /path/to/local/file_or_directory container_id:/path/in/container\\nHrithik Kumar Advani\",\n",
       "  'section': '5. Deploying Machine Learning Models',\n",
       "  'question': 'How do I copy files from my local machine to docker container?',\n",
       "  'course': 'machine-learning-zoomcamp'},\n",
       " {'text': 'You can copy files from your local machine into a Docker container using the docker cp command. Here\\'s how to do it:\\nIn the Dockerfile, you can provide the folder containing the files that you want to copy over. The basic syntax is as follows:\\nCOPY [\"src/predict.py\", \"models/xgb_model.bin\", \"./\"]\\t\\t\\t\\t\\t\\t\\t\\t\\t\\t\\tGopakumar Gopinathan',\n",
       "  'section': '5. Deploying Machine Learning Models',\n",
       "  'question': 'How do I copy files from a different folder into docker container’s working directory?',\n",
       "  'course': 'machine-learning-zoomcamp'}]"
      ]
     },
     "execution_count": 25,
     "metadata": {},
     "output_type": "execute_result"
    }
   ],
   "source": [
    "results_sources"
   ]
  },
  {
   "cell_type": "markdown",
   "id": "c659f1e5-0350-4153-a8bf-e8c27bcb0a22",
   "metadata": {},
   "source": [
    "### Q5. Building a prompt"
   ]
  },
  {
   "cell_type": "code",
   "execution_count": 26,
   "id": "895db992-8828-4243-8f90-cfcb6e4adbd0",
   "metadata": {},
   "outputs": [],
   "source": [
    "# Take the records returned from Elasticsearch in Q4 and use this template to build the context. \n",
    "# Separate context entries by two linebreaks (\\n\\n)\n",
    "# question = 'How do copy a file to a Docker container?'"
   ]
  },
  {
   "cell_type": "code",
   "execution_count": 27,
   "id": "c3971dee-a5ee-487f-8879-9310cca02bc4",
   "metadata": {},
   "outputs": [],
   "source": [
    "def build_context(search_results):\n",
    "    context = \"\"\n",
    "    for doc in search_results:\n",
    "        context += f\"Q: {doc['question']}\\nA: {doc['text']}\\n\\n\"\n",
    "    return context.strip()"
   ]
  },
  {
   "cell_type": "code",
   "execution_count": 28,
   "id": "ca958a2a-743a-49be-a4a1-b70d5889d2b4",
   "metadata": {},
   "outputs": [],
   "source": [
    "context = build_context(results_sources)"
   ]
  },
  {
   "cell_type": "code",
   "execution_count": 29,
   "id": "de997aef-4549-44f1-ac12-0c203b608344",
   "metadata": {},
   "outputs": [
    {
     "data": {
      "text/plain": [
       "'Q: How do I debug a docker container?\\nA: Launch the container image in interactive mode and overriding the entrypoint, so that it starts a bash command.\\ndocker run -it --entrypoint bash <image>\\nIf the container is already running, execute a command in the specific container:\\ndocker ps (find the container-id)\\ndocker exec -it <container-id> bash\\n(Marcos MJD)\\n\\nQ: How do I copy files from my local machine to docker container?\\nA: You can copy files from your local machine into a Docker container using the docker cp command. Here\\'s how to do it:\\nTo copy a file or directory from your local machine into a running Docker container, you can use the `docker cp command`. The basic syntax is as follows:\\ndocker cp /path/to/local/file_or_directory container_id:/path/in/container\\nHrithik Kumar Advani\\n\\nQ: How do I copy files from a different folder into docker container’s working directory?\\nA: You can copy files from your local machine into a Docker container using the docker cp command. Here\\'s how to do it:\\nIn the Dockerfile, you can provide the folder containing the files that you want to copy over. The basic syntax is as follows:\\nCOPY [\"src/predict.py\", \"models/xgb_model.bin\", \"./\"]\\t\\t\\t\\t\\t\\t\\t\\t\\t\\t\\tGopakumar Gopinathan'"
      ]
     },
     "execution_count": 29,
     "metadata": {},
     "output_type": "execute_result"
    }
   ],
   "source": [
    "context"
   ]
  },
  {
   "cell_type": "code",
   "execution_count": 30,
   "id": "629561e4-f395-43f2-8eb3-450b9fbdf341",
   "metadata": {},
   "outputs": [],
   "source": [
    "def build_prompt(search_results, user_question):\n",
    "    context = build_context(search_results)\n",
    "    prompt_template = \"\"\"\n",
    "        You're a course teaching assistant. Answer the QUESTION based on the CONTEXT from the FAQ database.\n",
    "        Use only the facts from the CONTEXT when answering the QUESTION.\n",
    "        \n",
    "        QUESTION: {question}\n",
    "        \n",
    "        CONTEXT:\n",
    "        {context}\n",
    "        \"\"\".strip()\n",
    "    return prompt_template.format(context=context, question=user_question)"
   ]
  },
  {
   "cell_type": "code",
   "execution_count": 31,
   "id": "0136ccf6-f018-4b6d-a81b-a457ce4d1f74",
   "metadata": {},
   "outputs": [],
   "source": [
    "prompt = build_prompt(results_sources, question)"
   ]
  },
  {
   "cell_type": "code",
   "execution_count": 32,
   "id": "fe47c504-7baf-41be-a5cd-2a426e7f1313",
   "metadata": {},
   "outputs": [
    {
     "data": {
      "text/plain": [
       "1494"
      ]
     },
     "execution_count": 32,
     "metadata": {},
     "output_type": "execute_result"
    }
   ],
   "source": [
    "len(prompt)"
   ]
  },
  {
   "cell_type": "markdown",
   "id": "2fc58e8d-af36-4866-b9e3-cd6abecbf057",
   "metadata": {},
   "source": [
    "### Q6. Tokens"
   ]
  },
  {
   "cell_type": "code",
   "execution_count": 33,
   "id": "b1d36223-d9a6-4f92-8fa4-e2e6107bfe13",
   "metadata": {},
   "outputs": [],
   "source": [
    "# Let's calculate the number of tokens in our query:\n",
    "encoding = tiktoken.encoding_for_model(\"gpt-4o\")"
   ]
  },
  {
   "cell_type": "code",
   "execution_count": 34,
   "id": "09f6c1fe-8371-497d-8dc7-c949ce9428eb",
   "metadata": {},
   "outputs": [],
   "source": [
    "encodes = encoding.encode(prompt)"
   ]
  },
  {
   "cell_type": "code",
   "execution_count": 35,
   "id": "dc63f236-3d15-4d4e-8cb5-7c41a3ecd2bc",
   "metadata": {},
   "outputs": [
    {
     "data": {
      "text/plain": [
       "326"
      ]
     },
     "execution_count": 35,
     "metadata": {},
     "output_type": "execute_result"
    }
   ],
   "source": [
    "len(encoding.encode(prompt))"
   ]
  },
  {
   "cell_type": "code",
   "execution_count": 36,
   "id": "e27a5530-a7e8-4d4b-bf68-12a6c6d6a8f7",
   "metadata": {},
   "outputs": [
    {
     "data": {
      "text/plain": [
       "63842"
      ]
     },
     "execution_count": 36,
     "metadata": {},
     "output_type": "execute_result"
    }
   ],
   "source": [
    "encodes[0]"
   ]
  },
  {
   "cell_type": "code",
   "execution_count": 37,
   "id": "29baf3f2-3f43-44db-a8f8-f01f0f38876a",
   "metadata": {},
   "outputs": [
    {
     "data": {
      "text/plain": [
       "b\"You're\""
      ]
     },
     "execution_count": 37,
     "metadata": {},
     "output_type": "execute_result"
    }
   ],
   "source": [
    "encoding.decode_single_token_bytes(63842)"
   ]
  },
  {
   "cell_type": "markdown",
   "id": "3cda2758-202f-44eb-94fe-b518f35ddbc3",
   "metadata": {},
   "source": [
    "### Bonus: generating the answer"
   ]
  },
  {
   "cell_type": "code",
   "execution_count": 38,
   "id": "ceb9fdea-37d6-4505-a71c-7513f2490fce",
   "metadata": {},
   "outputs": [],
   "source": [
    "def llm(prompt):\n",
    "    response = ollama.chat(\n",
    "        model='llama3',\n",
    "        messages=[{'role': 'user', 'content': prompt}])\n",
    "    return response['message']['content']"
   ]
  },
  {
   "cell_type": "code",
   "execution_count": null,
   "id": "7217fe43-80e2-4ae1-87ad-d331022e6502",
   "metadata": {},
   "outputs": [],
   "source": [
    "answer = llm(prompt) # [W 2025-06-16 05:28:15.791 ServerApp] The websocket_ping_timeout (90000) cannot be longer than the websocket_ping_interval (30000).\n",
    "    # Setting websocket_ping_timeout=30000"
   ]
  }
 ],
 "metadata": {
  "kernelspec": {
   "display_name": "Python (llm-zoomcamp-glen)",
   "language": "python",
   "name": "llm-zoomcamp-glen_env"
  },
  "language_info": {
   "codemirror_mode": {
    "name": "ipython",
    "version": 3
   },
   "file_extension": ".py",
   "mimetype": "text/x-python",
   "name": "python",
   "nbconvert_exporter": "python",
   "pygments_lexer": "ipython3",
   "version": "3.12.8"
  }
 },
 "nbformat": 4,
 "nbformat_minor": 5
}
