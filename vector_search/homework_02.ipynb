{
 "cells": [
  {
   "cell_type": "markdown",
   "id": "db06c0e3-7938-4e0b-bb28-a6c2a3a32179",
   "metadata": {},
   "source": [
    "## Homework: Vector Search\n",
    "### Author: Glen Lopez"
   ]
  },
  {
   "cell_type": "markdown",
   "id": "b20d3807-405c-48c2-980f-081db7a00d73",
   "metadata": {},
   "source": [
    "### Embeddings\n",
    "### Q1. Embedding the query"
   ]
  },
  {
   "cell_type": "code",
   "execution_count": 1,
   "id": "a3252605-fe67-43d3-987c-cd1dcffbedc1",
   "metadata": {},
   "outputs": [],
   "source": [
    "from fastembed import TextEmbedding\n",
    "import numpy as np"
   ]
  },
  {
   "cell_type": "code",
   "execution_count": 2,
   "id": "97129960-3d2a-4317-b99f-8f79f8c3e03d",
   "metadata": {},
   "outputs": [],
   "source": [
    "### Embed the query: 'I just discovered the course. Can I join now?'. Use the 'jinaai/jina-embeddings-v2-small-en' model.\n",
    "model = TextEmbedding('jinaai/jina-embeddings-v2-small-en')\n",
    "query = 'I just discovered the course. Can I join now?'"
   ]
  },
  {
   "cell_type": "code",
   "execution_count": 4,
   "id": "da4d9f0f-81f3-419a-aff6-8f0b0fb24093",
   "metadata": {},
   "outputs": [],
   "source": [
    "# Embed the query\n",
    "embedding = list(model.embed(query))[0]"
   ]
  },
  {
   "cell_type": "code",
   "execution_count": 6,
   "id": "5c63b13b-e096-4fc8-9982-ab01198da62d",
   "metadata": {},
   "outputs": [],
   "source": [
    "min_value = min(embedding)"
   ]
  },
  {
   "cell_type": "code",
   "execution_count": 10,
   "id": "f90caeda-cadd-4f8e-901d-6ed009688c7d",
   "metadata": {},
   "outputs": [
    {
     "data": {
      "text/plain": [
       "np.float64(-0.11726373551188797)"
      ]
     },
     "execution_count": 10,
     "metadata": {},
     "output_type": "execute_result"
    }
   ],
   "source": [
    "min_value"
   ]
  },
  {
   "cell_type": "code",
   "execution_count": 18,
   "id": "75bedbb5-0c23-48dc-873e-2b142b5fe86e",
   "metadata": {},
   "outputs": [
    {
     "name": "stdout",
     "output_type": "stream",
     "text": [
      "Is a NumPy array. And the dim is: 512\n"
     ]
    }
   ],
   "source": [
    "if isinstance(embedding, np.ndarray):\n",
    "    print('Is a NumPy array. And the dim is:', len(embedding))"
   ]
  },
  {
   "cell_type": "markdown",
   "id": "a9752c6e-d778-474f-ba6f-971beca9fffa",
   "metadata": {},
   "source": [
    "#### Cosine similarity"
   ]
  },
  {
   "cell_type": "code",
   "execution_count": 21,
   "id": "807c8dec-e687-4d2e-be82-1b87b57be2c9",
   "metadata": {},
   "outputs": [
    {
     "data": {
      "text/plain": [
       "np.float64(1.0)"
      ]
     },
     "execution_count": 21,
     "metadata": {},
     "output_type": "execute_result"
    }
   ],
   "source": [
    "### Check if the vector is already normalized: their length is 1.0\n",
    "np.linalg.norm(embedding)"
   ]
  },
  {
   "cell_type": "code",
   "execution_count": 22,
   "id": "1b1673a4-9a55-4115-b90e-2c84ab4c4276",
   "metadata": {},
   "outputs": [
    {
     "data": {
      "text/plain": [
       "np.float64(1.0)"
      ]
     },
     "execution_count": 22,
     "metadata": {},
     "output_type": "execute_result"
    }
   ],
   "source": [
    "### Compute the cosine of the query vector with itself\n",
    "embedding.dot(embedding)"
   ]
  },
  {
   "cell_type": "markdown",
   "id": "cd81f0c6-005e-4d4a-8cda-25926caaad7f",
   "metadata": {},
   "source": [
    "### Q2. Cosine similarity with another vector"
   ]
  },
  {
   "cell_type": "code",
   "execution_count": 23,
   "id": "4a2f6aa8-2e36-4a62-9c2e-4e0aabbd4df5",
   "metadata": {},
   "outputs": [],
   "source": [
    "### Alright, let's embed this document."
   ]
  },
  {
   "cell_type": "code",
   "execution_count": 24,
   "id": "6dd397f9-0177-4c58-a0f1-11a94d30a57c",
   "metadata": {},
   "outputs": [],
   "source": [
    "doc = 'Can I still join the course after the start date?'"
   ]
  },
  {
   "cell_type": "code",
   "execution_count": 25,
   "id": "b89587a0-38eb-4370-b5af-706c3ab2e664",
   "metadata": {},
   "outputs": [],
   "source": [
    "embedding_doc = list(model.embed(doc))[0]"
   ]
  },
  {
   "cell_type": "code",
   "execution_count": 33,
   "id": "b67d93e8-ac10-4d37-8fa4-b68413f86624",
   "metadata": {},
   "outputs": [
    {
     "name": "stdout",
     "output_type": "stream",
     "text": [
      "Is a NumPy array. And the dim is: 512\n"
     ]
    }
   ],
   "source": [
    "if isinstance(embedding_doc, np.ndarray):\n",
    "    print('Is a NumPy array. And the dim is:', len(embedding_doc))"
   ]
  },
  {
   "cell_type": "code",
   "execution_count": 29,
   "id": "adca1976-fa01-413e-946a-1be0fb50d0fd",
   "metadata": {},
   "outputs": [
    {
     "data": {
      "text/plain": [
       "np.float64(0.9999999999999999)"
      ]
     },
     "execution_count": 29,
     "metadata": {},
     "output_type": "execute_result"
    }
   ],
   "source": [
    "### Check if the vector is already normalized: their length is 1.0\n",
    "np.linalg.norm(embedding_doc)"
   ]
  },
  {
   "cell_type": "code",
   "execution_count": 31,
   "id": "3f17a540-b6fc-47ff-af0c-7dd948586fd0",
   "metadata": {},
   "outputs": [
    {
     "data": {
      "text/plain": [
       "np.float64(0.9008528856818037)"
      ]
     },
     "execution_count": 31,
     "metadata": {},
     "output_type": "execute_result"
    }
   ],
   "source": [
    "### question: What's the cosine similarity between the vector for the query and the vector for the document?\n",
    "embedding.dot(embedding_doc)"
   ]
  },
  {
   "cell_type": "markdown",
   "id": "229c11f6-d7c9-42f7-81bd-3eab18b260de",
   "metadata": {},
   "source": [
    "### Q3. Ranking by cosine"
   ]
  },
  {
   "cell_type": "code",
   "execution_count": 32,
   "id": "8d35acfb-7742-4ac9-95a1-48bccb0657af",
   "metadata": {},
   "outputs": [],
   "source": [
    "### We use the follow document for the nex questions\n",
    "documents = [{'text': \"Yes, even if you don't register, you're still eligible to submit the homeworks.\\nBe aware, however, that there will be deadlines for turning in the final projects. So don't leave everything for the last minute.\",\n",
    "  'section': 'General course-related questions',\n",
    "  'question': 'Course - Can I still join the course after the start date?',\n",
    "  'course': 'data-engineering-zoomcamp'},\n",
    " {'text': 'Yes, we will keep all the materials after the course finishes, so you can follow the course at your own pace after it finishes.\\nYou can also continue looking at the homeworks and continue preparing for the next cohort. I guess you can also start working on your final capstone project.',\n",
    "  'section': 'General course-related questions',\n",
    "  'question': 'Course - Can I follow the course after it finishes?',\n",
    "  'course': 'data-engineering-zoomcamp'},\n",
    " {'text': \"The purpose of this document is to capture frequently asked technical questions\\nThe exact day and hour of the course will be 15th Jan 2024 at 17h00. The course will start with the first  “Office Hours'' live.1\\nSubscribe to course public Google Calendar (it works from Desktop only).\\nRegister before the course starts using this link.\\nJoin the course Telegram channel with announcements.\\nDon’t forget to register in DataTalks.Club's Slack and join the channel.\",\n",
    "  'section': 'General course-related questions',\n",
    "  'question': 'Course - When will the course start?',\n",
    "  'course': 'data-engineering-zoomcamp'},\n",
    " {'text': 'You can start by installing and setting up all the dependencies and requirements:\\nGoogle cloud account\\nGoogle Cloud SDK\\nPython 3 (installed with Anaconda)\\nTerraform\\nGit\\nLook over the prerequisites and syllabus to see if you are comfortable with these subjects.',\n",
    "  'section': 'General course-related questions',\n",
    "  'question': 'Course - What can I do before the course starts?',\n",
    "  'course': 'data-engineering-zoomcamp'},\n",
    " {'text': 'Star the repo! Share it with friends if you find it useful ❣️\\nCreate a PR if you see you can improve the text or the structure of the repository.',\n",
    "  'section': 'General course-related questions',\n",
    "  'question': 'How can we contribute to the course?',\n",
    "  'course': 'data-engineering-zoomcamp'}]"
   ]
  },
  {
   "cell_type": "code",
   "execution_count": 72,
   "id": "95a45f8e-322f-4e36-a486-d02f0d92cf67",
   "metadata": {},
   "outputs": [],
   "source": [
    "### Compute the embeddings for the text field, and compute the cosine between the query vector and all the documents.\n",
    "documents_t = [item[\"text\"] for item in documents]"
   ]
  },
  {
   "cell_type": "code",
   "execution_count": 35,
   "id": "fba8654c-8ed1-4ca2-a9e6-6e7070c6a221",
   "metadata": {},
   "outputs": [
    {
     "data": {
      "text/plain": [
       "[\"Yes, even if you don't register, you're still eligible to submit the homeworks.\\nBe aware, however, that there will be deadlines for turning in the final projects. So don't leave everything for the last minute.\",\n",
       " 'Yes, we will keep all the materials after the course finishes, so you can follow the course at your own pace after it finishes.\\nYou can also continue looking at the homeworks and continue preparing for the next cohort. I guess you can also start working on your final capstone project.',\n",
       " \"The purpose of this document is to capture frequently asked technical questions\\nThe exact day and hour of the course will be 15th Jan 2024 at 17h00. The course will start with the first  “Office Hours'' live.1\\nSubscribe to course public Google Calendar (it works from Desktop only).\\nRegister before the course starts using this link.\\nJoin the course Telegram channel with announcements.\\nDon’t forget to register in DataTalks.Club's Slack and join the channel.\",\n",
       " 'You can start by installing and setting up all the dependencies and requirements:\\nGoogle cloud account\\nGoogle Cloud SDK\\nPython 3 (installed with Anaconda)\\nTerraform\\nGit\\nLook over the prerequisites and syllabus to see if you are comfortable with these subjects.',\n",
       " 'Star the repo! Share it with friends if you find it useful ❣️\\nCreate a PR if you see you can improve the text or the structure of the repository.']"
      ]
     },
     "execution_count": 35,
     "metadata": {},
     "output_type": "execute_result"
    }
   ],
   "source": [
    "documents_t"
   ]
  },
  {
   "cell_type": "code",
   "execution_count": 36,
   "id": "f1414649-c10f-416f-9d0b-dc4a9d7e8c6b",
   "metadata": {},
   "outputs": [],
   "source": [
    "embeddings_docs = list(model.embed(documents_t))"
   ]
  },
  {
   "cell_type": "code",
   "execution_count": 38,
   "id": "39a42588-e803-4e13-8cb0-d5bb00522364",
   "metadata": {},
   "outputs": [
    {
     "data": {
      "text/plain": [
       "5"
      ]
     },
     "execution_count": 38,
     "metadata": {},
     "output_type": "execute_result"
    }
   ],
   "source": [
    "len(embeddings_docs)"
   ]
  },
  {
   "cell_type": "code",
   "execution_count": 39,
   "id": "062f19e8-0c13-4bca-ba6b-0b2ea9f6f806",
   "metadata": {},
   "outputs": [
    {
     "data": {
      "text/plain": [
       "512"
      ]
     },
     "execution_count": 39,
     "metadata": {},
     "output_type": "execute_result"
    }
   ],
   "source": [
    "len(embeddings_docs[0])"
   ]
  },
  {
   "cell_type": "code",
   "execution_count": 91,
   "id": "d5db090e-58cf-4751-b9f6-8de34bba7505",
   "metadata": {},
   "outputs": [],
   "source": [
    "### In this step we using the Hint: if you put all the embeddings of the text field in one matrix V (a single 2-dimensional numpy array), then computing the cosine becomes a matrix multiplication:\n",
    "V = np.array(embeddings_docs)"
   ]
  },
  {
   "cell_type": "code",
   "execution_count": 92,
   "id": "a5350714-5340-4baa-a4af-aeaf26b8a214",
   "metadata": {},
   "outputs": [],
   "source": [
    "high_similarity = V.dot(embedding)"
   ]
  },
  {
   "cell_type": "code",
   "execution_count": 93,
   "id": "553e43c9-4046-4490-a31f-700327eacb89",
   "metadata": {},
   "outputs": [],
   "source": [
    "### What's the document index with the highest similarity? (Indexing starts from 0):\n",
    "idx_max_value = np.argmax(high_similarity)\n",
    "max_value = high_similarity[idx_max_value]"
   ]
  },
  {
   "cell_type": "code",
   "execution_count": 94,
   "id": "e10f7857-38d1-4a46-803b-7cfc4e757e77",
   "metadata": {},
   "outputs": [
    {
     "name": "stdout",
     "output_type": "stream",
     "text": [
      "document_index 1 value: 0.8182378361919105\n"
     ]
    }
   ],
   "source": [
    "print('document_index', idx_max_value, 'value:', max_value)"
   ]
  },
  {
   "cell_type": "markdown",
   "id": "7e911f60-65b2-4674-b700-e181dceae331",
   "metadata": {},
   "source": [
    "### Q4. Ranking by cosine, version two"
   ]
  },
  {
   "cell_type": "code",
   "execution_count": 82,
   "id": "2f63889b-1ab5-4d4d-a085-8d17f227ca1d",
   "metadata": {},
   "outputs": [],
   "source": [
    "full_text = [item['question'] + ' ' + item[\"text\"] for item in documents]"
   ]
  },
  {
   "cell_type": "code",
   "execution_count": 83,
   "id": "717f104a-dfe9-404b-9896-03c65e6a6e14",
   "metadata": {},
   "outputs": [
    {
     "data": {
      "text/plain": [
       "[\"Course - Can I still join the course after the start date? Yes, even if you don't register, you're still eligible to submit the homeworks.\\nBe aware, however, that there will be deadlines for turning in the final projects. So don't leave everything for the last minute.\",\n",
       " 'Course - Can I follow the course after it finishes? Yes, we will keep all the materials after the course finishes, so you can follow the course at your own pace after it finishes.\\nYou can also continue looking at the homeworks and continue preparing for the next cohort. I guess you can also start working on your final capstone project.',\n",
       " \"Course - When will the course start? The purpose of this document is to capture frequently asked technical questions\\nThe exact day and hour of the course will be 15th Jan 2024 at 17h00. The course will start with the first  “Office Hours'' live.1\\nSubscribe to course public Google Calendar (it works from Desktop only).\\nRegister before the course starts using this link.\\nJoin the course Telegram channel with announcements.\\nDon’t forget to register in DataTalks.Club's Slack and join the channel.\",\n",
       " 'Course - What can I do before the course starts? You can start by installing and setting up all the dependencies and requirements:\\nGoogle cloud account\\nGoogle Cloud SDK\\nPython 3 (installed with Anaconda)\\nTerraform\\nGit\\nLook over the prerequisites and syllabus to see if you are comfortable with these subjects.',\n",
       " 'How can we contribute to the course? Star the repo! Share it with friends if you find it useful ❣️\\nCreate a PR if you see you can improve the text or the structure of the repository.']"
      ]
     },
     "execution_count": 83,
     "metadata": {},
     "output_type": "execute_result"
    }
   ],
   "source": [
    "full_text"
   ]
  },
  {
   "cell_type": "code",
   "execution_count": 84,
   "id": "ad84cdc3-171f-4a75-a8f7-b5c8bd69567f",
   "metadata": {},
   "outputs": [],
   "source": [
    "embeddings_full_text = list(model.embed(full_text))"
   ]
  },
  {
   "cell_type": "code",
   "execution_count": 89,
   "id": "1049d2c0-40a1-47fa-a55f-7d7e16888373",
   "metadata": {},
   "outputs": [],
   "source": [
    "V_full = np.array(embeddings_full_text)"
   ]
  },
  {
   "cell_type": "code",
   "execution_count": 95,
   "id": "3587978e-bfb0-40ed-b07c-6bbea3595a6e",
   "metadata": {},
   "outputs": [],
   "source": [
    "high_similarity_f = V_full.dot(embedding)"
   ]
  },
  {
   "cell_type": "code",
   "execution_count": 97,
   "id": "827348ab-326c-4391-b6c7-db0c440085c1",
   "metadata": {},
   "outputs": [],
   "source": [
    "### What's the document index with the highest similarity? (Indexing starts from 0):\n",
    "idx_max_value_f = np.argmax(high_similarity_f)\n",
    "max_value_f = high_similarity_f[idx_max_value_f]"
   ]
  },
  {
   "cell_type": "code",
   "execution_count": 99,
   "id": "bcd8d697-1680-40bc-8459-9992c6d203e1",
   "metadata": {},
   "outputs": [
    {
     "name": "stdout",
     "output_type": "stream",
     "text": [
      "document_index_f 0 value_f: 0.8514542983476502\n"
     ]
    }
   ],
   "source": [
    "print('document_index_f', idx_max_value_f, 'value_f:', max_value_f)"
   ]
  },
  {
   "cell_type": "markdown",
   "id": "64362c1c-bd0d-4349-b047-7bdca6bf5eb6",
   "metadata": {},
   "source": [
    "#### Is it different from Q3? If yes, why?\n",
    "##### Yes, because Q3 uses only the answer text, while Q4 combines the question and the answer, which provides more context. This added context improves the quality of the embeddings and results in more accurate cosine similarity scores."
   ]
  },
  {
   "cell_type": "markdown",
   "id": "ef2678fd-4f6a-48da-95ac-d02dd6b7fc3a",
   "metadata": {},
   "source": [
    "### Q5. Selecting the embedding model"
   ]
  },
  {
   "cell_type": "code",
   "execution_count": 107,
   "id": "e3a43e75-1578-4fa1-a937-48f6b151e6e4",
   "metadata": {},
   "outputs": [
    {
     "name": "stdout",
     "output_type": "stream",
     "text": [
      "{\n",
      "  \"model\": \"BAAI/bge-small-en\",\n",
      "  \"sources\": {\n",
      "    \"hf\": \"Qdrant/bge-small-en\",\n",
      "    \"url\": \"https://storage.googleapis.com/qdrant-fastembed/BAAI-bge-small-en.tar.gz\",\n",
      "    \"_deprecated_tar_struct\": true\n",
      "  },\n",
      "  \"model_file\": \"model_optimized.onnx\",\n",
      "  \"description\": \"Text embeddings, Unimodal (text), English, 512 input tokens truncation, Prefixes for queries/documents: necessary, 2023 year.\",\n",
      "  \"license\": \"mit\",\n",
      "  \"size_in_GB\": 0.13,\n",
      "  \"additional_files\": [],\n",
      "  \"dim\": 384,\n",
      "  \"tasks\": {}\n",
      "}\n",
      "{\n",
      "  \"model\": \"BAAI/bge-small-en-v1.5\",\n",
      "  \"sources\": {\n",
      "    \"hf\": \"qdrant/bge-small-en-v1.5-onnx-q\",\n",
      "    \"url\": null,\n",
      "    \"_deprecated_tar_struct\": false\n",
      "  },\n",
      "  \"model_file\": \"model_optimized.onnx\",\n",
      "  \"description\": \"Text embeddings, Unimodal (text), English, 512 input tokens truncation, Prefixes for queries/documents: not so necessary, 2023 year.\",\n",
      "  \"license\": \"mit\",\n",
      "  \"size_in_GB\": 0.067,\n",
      "  \"additional_files\": [],\n",
      "  \"dim\": 384,\n",
      "  \"tasks\": {}\n",
      "}\n",
      "{\n",
      "  \"model\": \"snowflake/snowflake-arctic-embed-xs\",\n",
      "  \"sources\": {\n",
      "    \"hf\": \"snowflake/snowflake-arctic-embed-xs\",\n",
      "    \"url\": null,\n",
      "    \"_deprecated_tar_struct\": false\n",
      "  },\n",
      "  \"model_file\": \"onnx/model.onnx\",\n",
      "  \"description\": \"Text embeddings, Unimodal (text), English, 512 input tokens truncation, Prefixes for queries/documents: necessary, 2024 year.\",\n",
      "  \"license\": \"apache-2.0\",\n",
      "  \"size_in_GB\": 0.09,\n",
      "  \"additional_files\": [],\n",
      "  \"dim\": 384,\n",
      "  \"tasks\": {}\n",
      "}\n",
      "{\n",
      "  \"model\": \"snowflake/snowflake-arctic-embed-s\",\n",
      "  \"sources\": {\n",
      "    \"hf\": \"snowflake/snowflake-arctic-embed-s\",\n",
      "    \"url\": null,\n",
      "    \"_deprecated_tar_struct\": false\n",
      "  },\n",
      "  \"model_file\": \"onnx/model.onnx\",\n",
      "  \"description\": \"Text embeddings, Unimodal (text), English, 512 input tokens truncation, Prefixes for queries/documents: necessary, 2024 year.\",\n",
      "  \"license\": \"apache-2.0\",\n",
      "  \"size_in_GB\": 0.13,\n",
      "  \"additional_files\": [],\n",
      "  \"dim\": 384,\n",
      "  \"tasks\": {}\n",
      "}\n",
      "{\n",
      "  \"model\": \"sentence-transformers/all-MiniLM-L6-v2\",\n",
      "  \"sources\": {\n",
      "    \"hf\": \"qdrant/all-MiniLM-L6-v2-onnx\",\n",
      "    \"url\": \"https://storage.googleapis.com/qdrant-fastembed/sentence-transformers-all-MiniLM-L6-v2.tar.gz\",\n",
      "    \"_deprecated_tar_struct\": true\n",
      "  },\n",
      "  \"model_file\": \"model.onnx\",\n",
      "  \"description\": \"Text embeddings, Unimodal (text), English, 256 input tokens truncation, Prefixes for queries/documents: not necessary, 2021 year.\",\n",
      "  \"license\": \"apache-2.0\",\n",
      "  \"size_in_GB\": 0.09,\n",
      "  \"additional_files\": [],\n",
      "  \"dim\": 384,\n",
      "  \"tasks\": {}\n",
      "}\n",
      "{\n",
      "  \"model\": \"sentence-transformers/paraphrase-multilingual-MiniLM-L12-v2\",\n",
      "  \"sources\": {\n",
      "    \"hf\": \"qdrant/paraphrase-multilingual-MiniLM-L12-v2-onnx-Q\",\n",
      "    \"url\": null,\n",
      "    \"_deprecated_tar_struct\": false\n",
      "  },\n",
      "  \"model_file\": \"model_optimized.onnx\",\n",
      "  \"description\": \"Text embeddings, Unimodal (text), Multilingual (~50 languages), 512 input tokens truncation, Prefixes for queries/documents: not necessary, 2019 year.\",\n",
      "  \"license\": \"apache-2.0\",\n",
      "  \"size_in_GB\": 0.22,\n",
      "  \"additional_files\": [],\n",
      "  \"dim\": 384,\n",
      "  \"tasks\": {}\n",
      "}\n"
     ]
    }
   ],
   "source": [
    "import json\n",
    "\n",
    "EMBEDDING_DIMENSIONALITY = 384\n",
    "\n",
    "for model in TextEmbedding.list_supported_models():\n",
    "    if model[\"dim\"] == EMBEDDING_DIMENSIONALITY:\n",
    "        print(json.dumps(model, indent=2))"
   ]
  },
  {
   "cell_type": "code",
   "execution_count": 108,
   "id": "fd026f4a-3054-4546-9eb7-0093cc55862b",
   "metadata": {},
   "outputs": [],
   "source": [
    "model = 'BAAI/bge-small-en'"
   ]
  },
  {
   "cell_type": "markdown",
   "id": "babbfb6f-0c03-44ff-811e-58b075d31510",
   "metadata": {},
   "source": [
    "### Q6. Indexing with qdrant"
   ]
  },
  {
   "cell_type": "code",
   "execution_count": 5,
   "id": "3bb73fcb-416b-4c19-a33b-5e0787730051",
   "metadata": {},
   "outputs": [],
   "source": [
    "import requests \n",
    "from qdrant_client import QdrantClient, models"
   ]
  },
  {
   "cell_type": "code",
   "execution_count": 4,
   "id": "4ba85cdb-6d8f-4132-a554-416b51443f03",
   "metadata": {},
   "outputs": [],
   "source": [
    "qd_client = QdrantClient(\"http://localhost:6333\")"
   ]
  },
  {
   "cell_type": "code",
   "execution_count": 6,
   "id": "d9e29cc2-fef0-42db-8b1f-dad9f9569ec3",
   "metadata": {},
   "outputs": [],
   "source": [
    "docs_url = 'https://github.com/alexeygrigorev/llm-rag-workshop/raw/main/notebooks/documents.json'\n",
    "docs_response = requests.get(docs_url)\n",
    "documents_raw = docs_response.json()\n",
    "\n",
    "\n",
    "documents = []\n",
    "\n",
    "for course in documents_raw:\n",
    "    course_name = course['course']\n",
    "    if course_name != 'machine-learning-zoomcamp':\n",
    "        continue\n",
    "\n",
    "    for doc in course['documents']:\n",
    "        doc['course'] = course_name\n",
    "        documents.append(doc)"
   ]
  },
  {
   "cell_type": "code",
   "execution_count": 9,
   "id": "b908cec1-8307-45a7-941d-3df2fa5acdbf",
   "metadata": {},
   "outputs": [],
   "source": [
    "model = 'BAAI/bge-small-en'\n",
    "EMBEDDING_DIMENSIONALITY = 384"
   ]
  },
  {
   "cell_type": "code",
   "execution_count": 10,
   "id": "b5df1b9b-af56-4220-b2b0-cb6f07bf0063",
   "metadata": {},
   "outputs": [],
   "source": [
    "collection_name = \"qa_mlzoomcamp\""
   ]
  },
  {
   "cell_type": "code",
   "execution_count": 16,
   "id": "83abd0e7-5d6c-4f64-86cc-cb5ceab6065f",
   "metadata": {},
   "outputs": [],
   "source": [
    "query = 'I just discovered the course. Can I join now?'"
   ]
  },
  {
   "cell_type": "code",
   "execution_count": 11,
   "id": "4bea789b-cdbf-4b41-a48f-a03264b26aa8",
   "metadata": {},
   "outputs": [
    {
     "data": {
      "text/plain": [
       "True"
      ]
     },
     "execution_count": 11,
     "metadata": {},
     "output_type": "execute_result"
    }
   ],
   "source": [
    "qd_client.create_collection(\n",
    "    collection_name=collection_name,\n",
    "    vectors_config=models.VectorParams(\n",
    "        size=EMBEDDING_DIMENSIONALITY,\n",
    "        distance=models.Distance.COSINE\n",
    "    )\n",
    ")"
   ]
  },
  {
   "cell_type": "code",
   "execution_count": 12,
   "id": "62f24127-6d34-4978-9527-67cdefd72053",
   "metadata": {},
   "outputs": [
    {
     "data": {
      "text/plain": [
       "UpdateResult(operation_id=1, status=<UpdateStatus.COMPLETED: 'completed'>)"
      ]
     },
     "execution_count": 12,
     "metadata": {},
     "output_type": "execute_result"
    }
   ],
   "source": [
    "qd_client.create_payload_index(\n",
    "    collection_name=collection_name,\n",
    "    field_name=\"course\",\n",
    "    field_schema=\"keyword\"\n",
    ")"
   ]
  },
  {
   "cell_type": "code",
   "execution_count": 14,
   "id": "11dec88e-d1ad-4395-ac5f-1e33fb6bbb64",
   "metadata": {},
   "outputs": [],
   "source": [
    "points = []\n",
    "\n",
    "for i, doc in enumerate(documents):\n",
    "    text = doc['question'] + ' ' + doc['text']\n",
    "    vector = models.Document(text=text, model=model)\n",
    "    point = models.PointStruct(\n",
    "        id=i,\n",
    "        vector=vector,\n",
    "        payload=doc\n",
    "    )\n",
    "    points.append(point)"
   ]
  },
  {
   "cell_type": "code",
   "execution_count": 15,
   "id": "cbb2a68e-2a95-444b-a9a6-a3ba8d1665d9",
   "metadata": {},
   "outputs": [
    {
     "data": {
      "application/vnd.jupyter.widget-view+json": {
       "model_id": "60fd8f6e53be482da14bb635889a3d0e",
       "version_major": 2,
       "version_minor": 0
      },
      "text/plain": [
       "Fetching 5 files:   0%|          | 0/5 [00:00<?, ?it/s]"
      ]
     },
     "metadata": {},
     "output_type": "display_data"
    },
    {
     "data": {
      "application/vnd.jupyter.widget-view+json": {
       "model_id": "9b48d923a2fd44a9b7101453229d62eb",
       "version_major": 2,
       "version_minor": 0
      },
      "text/plain": [
       "config.json:   0%|          | 0.00/701 [00:00<?, ?B/s]"
      ]
     },
     "metadata": {},
     "output_type": "display_data"
    },
    {
     "data": {
      "application/vnd.jupyter.widget-view+json": {
       "model_id": "d07513555661460d907a8c3487d35c81",
       "version_major": 2,
       "version_minor": 0
      },
      "text/plain": [
       "special_tokens_map.json:   0%|          | 0.00/125 [00:00<?, ?B/s]"
      ]
     },
     "metadata": {},
     "output_type": "display_data"
    },
    {
     "data": {
      "application/vnd.jupyter.widget-view+json": {
       "model_id": "bd992bfeaf884be5bc7e51539175c3c3",
       "version_major": 2,
       "version_minor": 0
      },
      "text/plain": [
       "tokenizer_config.json:   0%|          | 0.00/366 [00:00<?, ?B/s]"
      ]
     },
     "metadata": {},
     "output_type": "display_data"
    },
    {
     "data": {
      "application/vnd.jupyter.widget-view+json": {
       "model_id": "77d1c38ab70a4ccd93bff07d67f11399",
       "version_major": 2,
       "version_minor": 0
      },
      "text/plain": [
       "tokenizer.json:   0%|          | 0.00/711k [00:00<?, ?B/s]"
      ]
     },
     "metadata": {},
     "output_type": "display_data"
    },
    {
     "data": {
      "application/vnd.jupyter.widget-view+json": {
       "model_id": "7df54e633e5f43cca9f42ab62a5ea49b",
       "version_major": 2,
       "version_minor": 0
      },
      "text/plain": [
       "model_optimized.onnx:   0%|          | 0.00/133M [00:00<?, ?B/s]"
      ]
     },
     "metadata": {},
     "output_type": "display_data"
    },
    {
     "data": {
      "text/plain": [
       "UpdateResult(operation_id=2, status=<UpdateStatus.COMPLETED: 'completed'>)"
      ]
     },
     "execution_count": 15,
     "metadata": {},
     "output_type": "execute_result"
    }
   ],
   "source": [
    "qd_client.upsert(\n",
    "    collection_name=collection_name,\n",
    "    points=points\n",
    ")"
   ]
  },
  {
   "cell_type": "code",
   "execution_count": 20,
   "id": "dca5241e-376d-4bc4-be52-07a3cfd2d658",
   "metadata": {},
   "outputs": [],
   "source": [
    "def search(query, limit=1):\n",
    "\n",
    "    results = qd_client.query_points(\n",
    "        collection_name=collection_name,\n",
    "        query=models.Document( #embed the query text locally with \"jinaai/jina-embeddings-v2-small-en\"\n",
    "            text=query,\n",
    "            model=model\n",
    "        ),\n",
    "        limit=limit, # top closest matches\n",
    "        with_payload=True #to get metadata in the results\n",
    "    )\n",
    "\n",
    "    return results"
   ]
  },
  {
   "cell_type": "code",
   "execution_count": 21,
   "id": "6b387f21-35a6-4b08-843b-e1dc84e5eb7d",
   "metadata": {},
   "outputs": [
    {
     "data": {
      "text/plain": [
       "QueryResponse(points=[ScoredPoint(id=14, version=2, score=0.8703172, payload={'text': 'Yes, you can. You won’t be able to submit some of the homeworks, but you can still take part in the course.\\nIn order to get a certificate, you need to submit 2 out of 3 course projects and review 3 peers’ Projects by the deadline. It means that if you join the course at the end of November and manage to work on two projects, you will still be eligible for a certificate.', 'section': 'General course-related questions', 'question': 'The course has already started. Can I still join it?', 'course': 'machine-learning-zoomcamp'}, vector=None, shard_key=None, order_value=None)])"
      ]
     },
     "execution_count": 21,
     "metadata": {},
     "output_type": "execute_result"
    }
   ],
   "source": [
    "search(query)"
   ]
  },
  {
   "cell_type": "code",
   "execution_count": null,
   "id": "21482f7d-1650-4548-a5e8-d815ea07785a",
   "metadata": {},
   "outputs": [],
   "source": []
  }
 ],
 "metadata": {
  "kernelspec": {
   "display_name": "Python (llm-zoomcamp-glen)",
   "language": "python",
   "name": "llm-zoomcamp-glen_env"
  },
  "language_info": {
   "codemirror_mode": {
    "name": "ipython",
    "version": 3
   },
   "file_extension": ".py",
   "mimetype": "text/x-python",
   "name": "python",
   "nbconvert_exporter": "python",
   "pygments_lexer": "ipython3",
   "version": "3.12.8"
  }
 },
 "nbformat": 4,
 "nbformat_minor": 5
}
